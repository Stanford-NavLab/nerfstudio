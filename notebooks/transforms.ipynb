{
 "cells": [
  {
   "cell_type": "markdown",
   "metadata": {},
   "source": [
    "Notebook for plotting camera positions from `transforms.json` file, and computing transformation to orient cameras to be\n",
    "aligned with the ground plane."
   ]
  },
  {
   "cell_type": "code",
   "execution_count": null,
   "metadata": {},
   "outputs": [],
   "source": [
    "import os\n",
    "import numpy as np\n",
    "import json\n",
    "import plotly.graph_objects as go\n",
    "\n",
    "%load_ext autoreload\n",
    "%autoreload 2"
   ]
  },
  {
   "cell_type": "code",
   "execution_count": null,
   "metadata": {},
   "outputs": [],
   "source": [
    "# Path to transforms.json\n",
    "with open(os.path.join('data', 'RedRocks', 'transforms.json'), 'r') as f:\n",
    "    data = json.load(f)\n",
    "\n",
    "# Extract camera poses\n",
    "poses = np.array([[data['frames'][i]['transform_matrix']] \n",
    "                        for i in range(len(data['frames']))])\n",
    "poses = np.squeeze(poses)"
   ]
  },
  {
   "cell_type": "code",
   "execution_count": null,
   "metadata": {},
   "outputs": [],
   "source": [
    "positions = poses[:, :3, 3]\n",
    "\n",
    "# PCA on positions\n",
    "mean = np.mean(positions, axis=0)\n",
    "positions = positions - mean\n",
    "cov = np.dot(positions.T, positions) / positions.shape[0]\n",
    "U, S, V = np.linalg.svd(cov)\n",
    "\n",
    "# X and Y directions\n",
    "X = U[:, 0]\n",
    "Y = U[:, 1]\n",
    "Z = U[:, 2]\n",
    "print(Z)"
   ]
  },
  {
   "cell_type": "code",
   "execution_count": null,
   "metadata": {},
   "outputs": [],
   "source": [
    "# Plot positions and Z vector\n",
    "fig = go.Figure(data=[go.Scatter3d(x=positions[:, 0], y=positions[:, 1], z=positions[:, 2], mode='markers')])\n",
    "fig.add_trace(go.Scatter3d(x=[mean[0], mean[0] + Z[0]], y=[mean[1], mean[1] + Z[1]], z=[mean[2], mean[2] + Z[2]], mode='lines'))\n",
    "fig.update_layout(height=600, width=1200, scene=dict(aspectmode='data'))\n",
    "fig.show()"
   ]
  },
  {
   "cell_type": "code",
   "execution_count": null,
   "metadata": {},
   "outputs": [],
   "source": [
    "# Rotate poses to align with XYZ\n",
    "T = np.eye(4)\n",
    "T[:3, 0] = X\n",
    "T[:3, 1] = Y\n",
    "T[:3, 2] = Z\n",
    "poses_rotated = [T.T @ pose for pose in poses]\n",
    "poses_rotated = np.array(poses_rotated)"
   ]
  },
  {
   "cell_type": "code",
   "execution_count": null,
   "metadata": {},
   "outputs": [],
   "source": [
    "positions_rotated = poses_rotated[:, :3, 3]\n",
    "fig = go.Figure(data=[go.Scatter3d(x=positions_rotated[:, 0], y=positions_rotated[:, 1], z=positions_rotated[:, 2], mode='markers')])\n",
    "fig.add_trace(go.Scatter3d(x=positions[:, 0], y=positions[:, 1], z=positions[:, 2], mode='markers'))\n",
    "fig.update_layout(height=600, width=1200, scene=dict(aspectmode='data'))\n",
    "fig.show()"
   ]
  },
  {
   "cell_type": "code",
   "execution_count": null,
   "metadata": {},
   "outputs": [],
   "source": []
  }
 ],
 "metadata": {
  "kernelspec": {
   "display_name": "nerfstudio",
   "language": "python",
   "name": "python3"
  },
  "language_info": {
   "codemirror_mode": {
    "name": "ipython",
    "version": 3
   },
   "file_extension": ".py",
   "mimetype": "text/x-python",
   "name": "python",
   "nbconvert_exporter": "python",
   "pygments_lexer": "ipython3",
   "version": "3.8.18"
  }
 },
 "nbformat": 4,
 "nbformat_minor": 2
}
